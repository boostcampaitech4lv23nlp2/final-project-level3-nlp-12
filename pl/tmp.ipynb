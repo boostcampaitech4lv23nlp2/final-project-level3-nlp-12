{
 "cells": [
  {
   "cell_type": "code",
   "execution_count": 1,
   "metadata": {},
   "outputs": [
    {
     "name": "stderr",
     "output_type": "stream",
     "text": [
      "/opt/conda/envs/whisper/lib/python3.9/site-packages/tqdm/auto.py:22: TqdmWarning: IProgress not found. Please update jupyter and ipywidgets. See https://ipywidgets.readthedocs.io/en/stable/user_install.html\n",
      "  from .autonotebook import tqdm as notebook_tqdm\n"
     ]
    }
   ],
   "source": [
    "import os\n",
    "import pickle as pickle\n",
    "\n",
    "import pandas as pd\n",
    "import pytorch_lightning as pl\n",
    "import torch\n",
    "import transformers\n",
    "\n",
    "from tqdm.auto import tqdm\n",
    "from utils.util import *\n",
    "\n",
    "class Dataset(torch.utils.data.Dataset):\n",
    "    \"\"\"Dataset 구성을 위한 Class\"\"\"\n",
    "\n",
    "    def __init__(self, audio, labels):\n",
    "        self.audio = audio\n",
    "        self.labels = labels\n",
    "\n",
    "    def __getitem__(self, idx):\n",
    "        item = {}\n",
    "        item['audio'] = self.audio[idx]\n",
    "        item[\"labels\"] = torch.tensor(self.labels[idx])\n",
    "        return item\n",
    "\n",
    "    def __len__(self):\n",
    "        return len(self.labels)\n",
    "\n",
    "\n",
    "class Dataloader(pl.LightningDataModule):\n",
    "    def __init__(self, model_name, batch_size, shuffle, train_path, test_path, split_seed=42):\n",
    "        super().__init__()\n",
    "        self.model_name = model_name\n",
    "        self.batch_size = batch_size\n",
    "        self.shuffle = shuffle\n",
    "        self.split_seed = split_seed\n",
    "\n",
    "        self.train_path = train_path\n",
    "        self.test_path = test_path\n",
    "\n",
    "        self.train_dataset = None\n",
    "        self.val_dataset = None\n",
    "        self.test_dataset = None\n",
    "        self.predict_dataset = None\n",
    "        total_data = load_data(self.train_path)\n",
    "        tmp_data = total_data.sample(frac=0.9, random_state=self.split_seed)\n",
    "        self.test_data = total_data.drop(tmp_data.index)\n",
    "        self.train_data = tmp_data.sample(frac=0.9, random_state=self.split_seed)\n",
    "        self.val_data = tmp_data.drop(self.train_data.index)\n",
    "\n",
    "    def setup(self, stage=\"fit\"):\n",
    "        if stage == \"fit\":\n",
    "            # 학습 데이터을 호출\n",
    "            train_label = label_to_num(self.train_data[\"label\"].values)\n",
    "            val_label = label_to_num(self.val_data[\"label\"].values)\n",
    "\n",
    "            self.train_dataset = Dataset(self.train_data['audio'], train_label)\n",
    "            self.val_dataset = Dataset(self.val_data['audio'], val_label)\n",
    "\n",
    "        if stage == \"test\":\n",
    "            val_label = label_to_num(self.val_data[\"label\"].values)\n",
    "            self.test_dataset = Dataset(self.val_data['audio'], val_label)\n",
    "\n",
    "        if stage == \"predict\":\n",
    "            predict_label = label_to_num(self.test_data[\"label\"].values)\n",
    "            self.predict_dataset = Dataset(self.test_data['audio'], predict_label)\n",
    "\n",
    "    def train_dataloader(self):\n",
    "        return torch.utils.data.DataLoader(\n",
    "            self.train_dataset,\n",
    "            batch_size=self.batch_size,\n",
    "            shuffle=self.shuffle,\n",
    "            num_workers=4,\n",
    "        )\n",
    "\n",
    "    def val_dataloader(self):\n",
    "        return torch.utils.data.DataLoader(self.val_dataset, batch_size=self.batch_size, num_workers=4)\n",
    "\n",
    "    def test_dataloader(self):\n",
    "        return torch.utils.data.DataLoader(self.test_dataset, batch_size=self.batch_size, num_workers=4)\n",
    "\n",
    "    def predict_dataloader(self):\n",
    "        return torch.utils.data.DataLoader(self.predict_dataset, batch_size=self.batch_size, num_workers=4)\n"
   ]
  },
  {
   "cell_type": "code",
   "execution_count": null,
   "metadata": {},
   "outputs": [],
   "source": []
  }
 ],
 "metadata": {
  "kernelspec": {
   "display_name": "whisper",
   "language": "python",
   "name": "python3"
  },
  "language_info": {
   "codemirror_mode": {
    "name": "ipython",
    "version": 3
   },
   "file_extension": ".py",
   "mimetype": "text/x-python",
   "name": "python",
   "nbconvert_exporter": "python",
   "pygments_lexer": "ipython3",
   "version": "3.9.15"
  },
  "orig_nbformat": 4,
  "vscode": {
   "interpreter": {
    "hash": "0d92da0a1b2a9422f3c47c40724438aa15fd669204e554153def5387194ea7e5"
   }
  }
 },
 "nbformat": 4,
 "nbformat_minor": 2
}
