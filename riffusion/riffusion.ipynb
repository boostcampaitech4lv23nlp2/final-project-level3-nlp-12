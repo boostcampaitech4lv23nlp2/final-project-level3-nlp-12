{
 "cells": [
  {
   "cell_type": "code",
   "execution_count": 1,
   "metadata": {},
   "outputs": [
    {
     "name": "stderr",
     "output_type": "stream",
     "text": [
      "/opt/conda/envs/riffusion/lib/python3.9/site-packages/tqdm/auto.py:22: TqdmWarning: IProgress not found. Please update jupyter and ipywidgets. See https://ipywidgets.readthedocs.io/en/stable/user_install.html\n",
      "  from .autonotebook import tqdm as notebook_tqdm\n"
     ]
    }
   ],
   "source": [
    "import dataclasses\n",
    "import io\n",
    "import typing as T\n",
    "from pathlib import Path\n",
    "import sys\n",
    "sys.path.append('code/riffusion')\n",
    "import numpy as np\n",
    "import pydub\n",
    "import streamlit as st\n",
    "from PIL import Image\n",
    "\n",
    "from riffusion.datatypes import InferenceInput, PromptInput\n",
    "from riffusion.spectrogram_params import SpectrogramParams\n",
    "from riffusion.streamlit import util as streamlit_util"
   ]
  },
  {
   "cell_type": "code",
   "execution_count": 2,
   "metadata": {},
   "outputs": [],
   "source": [
    "def run_interpolation(\n",
    "    inputs: InferenceInput, init_image: Image.Image, device: str = \"cuda\"\n",
    ") -> T.Tuple[Image.Image, io.BytesIO]:\n",
    "    \"\"\"\n",
    "    Cached function for riffusion interpolation.\n",
    "    \"\"\"\n",
    "    pipeline = streamlit_util.load_riffusion_checkpoint(\n",
    "        device=device,\n",
    "        # No trace so we can have variable width\n",
    "        no_traced_unet=True,\n",
    "    )\n",
    "\n",
    "    image = pipeline.riffuse(\n",
    "        inputs,\n",
    "        init_image=init_image,\n",
    "        mask_image=None,\n",
    "    )\n",
    "\n",
    "    # TODO(hayk): Change the frequency range to [20, 20k] once the model is retrained\n",
    "    params = SpectrogramParams(\n",
    "        min_frequency=0,\n",
    "        max_frequency=10000,\n",
    "    )\n",
    "\n",
    "    # Reconstruct from image to audio\n",
    "    audio_bytes = streamlit_util.audio_bytes_from_spectrogram_image(\n",
    "        image=image,\n",
    "        params=params,\n",
    "        device=device,\n",
    "        output_format=\"mp3\",\n",
    "    )\n",
    "\n",
    "    return image, audio_bytes"
   ]
  },
  {
   "cell_type": "code",
   "execution_count": 8,
   "metadata": {},
   "outputs": [],
   "source": [
    "prompt = 'basic prompt a'\n",
    "seed = 42\n",
    "denoising = 0.75\n",
    "guidance = 7.0\n",
    "prompt_input_a = PromptInput(\n",
    "        prompt=prompt,\n",
    "        seed=seed,\n",
    "        denoising=denoising,\n",
    "        guidance=guidance,\n",
    "    )\n",
    "prompt = 'basic prompt b'\n",
    "seed = 42\n",
    "denoising = 0.75\n",
    "guidance = 7.0\n",
    "prompt_input_b = PromptInput(\n",
    "        prompt=prompt,\n",
    "        seed=seed,\n",
    "        denoising=denoising,\n",
    "        guidance=guidance,\n",
    "    )"
   ]
  },
  {
   "cell_type": "code",
   "execution_count": 7,
   "metadata": {},
   "outputs": [],
   "source": [
    "num_interpolation_steps = 4\n",
    "alphas = list(np.linspace(0, 1, num_interpolation_steps))\n",
    "alphas_str = \", \".join([f\"{alpha:.2f}\" for alpha in alphas])"
   ]
  },
  {
   "cell_type": "code",
   "execution_count": 5,
   "metadata": {},
   "outputs": [],
   "source": [
    "init_image = Image.open('/opt/ml/input/code/riffusion/seed_images/og_beat.png').convert(\"RGB\")\n",
    "device = 'cuda'"
   ]
  },
  {
   "cell_type": "code",
   "execution_count": 9,
   "metadata": {},
   "outputs": [
    {
     "name": "stderr",
     "output_type": "stream",
     "text": [
      "2023-01-15 15:02:20.852 \n",
      "  \u001b[33m\u001b[1mWarning:\u001b[0m to view this Streamlit app on a browser, run it with the following\n",
      "  command:\n",
      "\n",
      "    streamlit run /opt/conda/envs/riffusion/lib/python3.9/site-packages/ipykernel_launcher.py [ARGUMENTS]\n",
      "Fetching 15 files: 100%|██████████| 15/15 [00:00<00:00, 15542.13it/s]\n",
      "You have passed a non-standard module <function RiffusionPipeline.load_checkpoint.<locals>.<lambda> at 0x7f76cf476a60>. We cannot verify whether it has the correct type\n",
      "100%|██████████| 38/38 [00:03<00:00, 12.07it/s]\n",
      "Fetching 15 files: 100%|██████████| 15/15 [00:00<00:00, 13688.98it/s]\n",
      "You have passed a non-standard module <function RiffusionPipeline.load_checkpoint.<locals>.<lambda> at 0x7f76310bc310>. We cannot verify whether it has the correct type\n",
      "100%|██████████| 38/38 [00:02<00:00, 13.25it/s]\n",
      "Fetching 15 files: 100%|██████████| 15/15 [00:00<00:00, 16202.57it/s]\n",
      "You have passed a non-standard module <function RiffusionPipeline.load_checkpoint.<locals>.<lambda> at 0x7f76310bcdc0>. We cannot verify whether it has the correct type\n",
      "100%|██████████| 38/38 [00:02<00:00, 13.77it/s]\n",
      "Fetching 15 files: 100%|██████████| 15/15 [00:00<00:00, 14166.76it/s]\n",
      "You have passed a non-standard module <function RiffusionPipeline.load_checkpoint.<locals>.<lambda> at 0x7f76050d23a0>. We cannot verify whether it has the correct type\n",
      "100%|██████████| 38/38 [00:02<00:00, 13.37it/s]\n"
     ]
    }
   ],
   "source": [
    "num_inference_steps = 50\n",
    "image_list: T.List[Image.Image] = []\n",
    "audio_bytes_list: T.List[io.BytesIO] = []\n",
    "for i, alpha in enumerate(alphas):\n",
    "    inputs = InferenceInput(\n",
    "        alpha=float(alpha),\n",
    "        num_inference_steps=num_inference_steps,\n",
    "        seed_image_id=\"og_beat\",\n",
    "        start=prompt_input_a,\n",
    "        end=prompt_input_b,\n",
    "    )\n",
    "    image, audio_bytes = run_interpolation(\n",
    "        inputs=inputs,\n",
    "        init_image=init_image,\n",
    "        device=device,\n",
    "    )\n",
    "    image_list.append(image)\n",
    "    audio_bytes_list.append(audio_bytes)"
   ]
  },
  {
   "cell_type": "code",
   "execution_count": 10,
   "metadata": {},
   "outputs": [
    {
     "data": {
      "text/plain": [
       "0"
      ]
     },
     "execution_count": 10,
     "metadata": {},
     "output_type": "execute_result"
    }
   ],
   "source": [
    "audio_segments = [pydub.AudioSegment.from_file(audio_bytes) for audio_bytes in audio_bytes_list]\n",
    "concat_segment = audio_segments[0]\n",
    "for segment in audio_segments[1:]:\n",
    "    concat_segment = concat_segment.append(segment, crossfade=0)\n",
    "\n",
    "audio_bytes = io.BytesIO()\n",
    "concat_segment.export(audio_bytes, format=\"mp3\")\n",
    "audio_bytes.seek(0)"
   ]
  },
  {
   "cell_type": "code",
   "execution_count": 18,
   "metadata": {},
   "outputs": [],
   "source": [
    "with open('/opt/ml/input/code/riffusion/test.wav', mode='bx') as f:\n",
    "    f.write(audio_bytes.getvalue()) "
   ]
  }
 ],
 "metadata": {
  "kernelspec": {
   "display_name": "riffusion",
   "language": "python",
   "name": "python3"
  },
  "language_info": {
   "codemirror_mode": {
    "name": "ipython",
    "version": 3
   },
   "file_extension": ".py",
   "mimetype": "text/x-python",
   "name": "python",
   "nbconvert_exporter": "python",
   "pygments_lexer": "ipython3",
   "version": "3.9.15 (main, Nov 24 2022, 14:31:59) \n[GCC 11.2.0]"
  },
  "orig_nbformat": 4,
  "vscode": {
   "interpreter": {
    "hash": "83bc2319cbf9249bd392b6a8f1506e8a3c3e9a022b8c725bc22d7845ca48c568"
   }
  }
 },
 "nbformat": 4,
 "nbformat_minor": 2
}
